{
  "metadata": {
    "language_info": {
      "codemirror_mode": {
        "name": "python",
        "version": 3
      },
      "file_extension": ".py",
      "mimetype": "text/x-python",
      "name": "python",
      "nbconvert_exporter": "python",
      "pygments_lexer": "ipython3",
      "version": "3.8"
    },
    "kernelspec": {
      "name": "python",
      "display_name": "Pyolite",
      "language": "python"
    }
  },
  "nbformat_minor": 4,
  "nbformat": 4,
  "cells": [
    {
      "cell_type": "markdown",
      "source": "# EJERCICIO 10, Enunciado:\n\n10. Trabajando con los contenidos de los archivos que pueden acceder en el curso:\n • nombres\n • eval1\n • eval2\n Manipule estos archivos para realizar lo siguiente:\n • Generar una estructura con los nombres de los estudiantes y la suma de ambas notas.\n • Calcular el promedio de las notas totales e informar que alumnos obtuvieron menos que el promedio.",
      "metadata": {
        "tags": []
      }
    },
    {
      "cell_type": "markdown",
      "source": "# * Abro los archivos provistos (nombres_1.txt y eval1.txt y eval2.txt) y los convierto a una lista para facilitar su lectura:",
      "metadata": {}
    },
    {
      "cell_type": "code",
      "source": "nombres1 = list(open(\"nombres_1.txt\", encoding='utf-8'))\nnotas1 = list(open(\"eval1.txt\", encoding='utf-8'))\nnotas2 = list(open(\"eval2.txt\", encoding='utf-8'))",
      "metadata": {},
      "execution_count": null,
      "outputs": []
    },
    {
      "cell_type": "markdown",
      "source": "# * Formateo la lista recibida eliminando caracteres innecesarios:",
      "metadata": {}
    },
    {
      "cell_type": "code",
      "source": "lista1 = formatear_Lista(nombres1)\nlista3 = formatear_Lista(notas1)\nlista4 = formatear_Lista(notas2)",
      "metadata": {},
      "execution_count": null,
      "outputs": []
    },
    {
      "cell_type": "markdown",
      "source": "# * Previo declaro mis funciones para procesar las listas = \"formatear_lista\", \"str_to_num\" y \"informar_alumnos_por_debajo_del_promedio\" :\n",
      "metadata": {}
    },
    {
      "cell_type": "code",
      "source": "def formatear_Lista(lista):\n    \"\"\"\n    Elimina los caracteres ainnecesarios de cada elemento de la lista, en este caso : \\n, [, ], \" \", ,\n    se podria mejorar y hacer una variable q contenga los caracteres e ir \"controlando\" contra los caracteres de esta, pero \n    por simplicidad lo hice así.\n    \"\"\"\n    aux = []\n    for x in lista:\n        x = x.replace(\"\\n\", \"\").replace(\",\", \"\").replace(\"'\", \"\").replace(\"[\", \"\").replace(\"]\", \"\").replace(\" \", \"\")\n        aux.append(x)\n    return aux\n\ndef str_to_num(lista1):\n    \"\"\"\n    El numbre es bastante descriptivo, simplemente recibe una lista de elemntos en formato cadena (numeros en caracteres)\n    y lo que hace es convertirlos a enteros. devuelve una nueva lista con estos nuevos elementos.\n    \"\"\"\n    lista2 = []\n    for x in lista1:\n        lista2.append(int(x))\n    return lista2   \n\ndef informar_alumnos_por_debajo_del_promedio(nombres,nota1,nota2,promedio):\n    \"\"\"\n    Así como lo llama la funcion, recibe cuatro paramentros: \n    la lista con nombres, las notas, y el promedio calculado previamente\n    calcula por cada uno de los nombres e informa si cumple con la condicion.\n    \"\"\"\n    for x in range(len(nombres)):\n        if (int(nota1[x])+int(nota2[x])) < promedio:\n            print(\"el alumno: \",nombres[x],\" está por debajo del promedio (\",promedio,\")\" )",
      "metadata": {},
      "execution_count": null,
      "outputs": []
    },
    {
      "cell_type": "markdown",
      "source": "# * Imprime los nombres de los estudiantes con la correspondientes nota total:",
      "metadata": {}
    },
    {
      "cell_type": "code",
      "source": "for x in range(len(lista1)):\n    print(x,  lista1[x],\" Total_: \",int(lista3[x])+int(lista4[x]))",
      "metadata": {},
      "execution_count": null,
      "outputs": []
    },
    {
      "cell_type": "markdown",
      "source": "# * Guardo en una lista auxiliar las notas en enteros, calculo el promedio utilizando las funciones\n# \"sun()\" y \"len()\", utilizo la funcion \"round()\" para eliminar los decimales en hasta 2.\n",
      "metadata": {}
    },
    {
      "cell_type": "code",
      "source": "listaAux = str_to_num(lista3)\npromedio_notas = round(sum(listaAux)/len(lista3), 2)",
      "metadata": {},
      "execution_count": null,
      "outputs": []
    },
    {
      "cell_type": "markdown",
      "source": "# * Por ultimo informo el promedio de las notas y los alumnos que se encuentran por debajo de este promedio",
      "metadata": {}
    },
    {
      "cell_type": "code",
      "source": "print(\"El promedio de las notas es: \", promedio_notas)\ninformar_alumnos_por_debajo_del_promedio(lista1,lista3,lista4,promedio_notas)",
      "metadata": {},
      "execution_count": null,
      "outputs": []
    }
  ]
}